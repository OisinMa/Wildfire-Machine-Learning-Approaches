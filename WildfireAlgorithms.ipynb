{
 "cells": [
  {
   "metadata": {},
   "cell_type": "markdown",
   "source": "Evaluating Logisitc Regression and Random Forest on Wildfire training and test data sets",
   "id": "15638a528e29d6fa"
  },
  {
   "cell_type": "code",
   "id": "e4201aaf-af80-4ab9-9b39-7d0087b8e60d",
   "metadata": {
    "ExecuteTime": {
     "end_time": "2025-10-14T15:36:16.604438Z",
     "start_time": "2025-10-14T15:36:16.556963Z"
    }
   },
   "source": [
    "import pandas as pd\n",
    "import matplotlib.pyplot as plt\n",
    "import seaborn as sns\n",
    "\n",
    "# details for wildfires dataset\n",
    "training_file = \"wildfires_training.csv\"\n",
    "test_file = \"wildfires_test.csv\"\n",
    "independent_cols = [\"year\", \"temp\", \"humidity\", \"rainfall\", \"drought_code\", \"buildup_index\", \"day\",\n",
    "                    \"month\", \"wind_speed\"]\n",
    "dependent_col = \"fire\"\n",
    "\n",
    "# Here we load our training dataset in from the training file using the pandas library\n",
    "df_training = pd.read_csv(training_file)\n",
    "print(df_training.head())\n",
    "print(df_training.shape)"
   ],
   "outputs": [
    {
     "name": "stdout",
     "output_type": "stream",
     "text": [
      "  fire  year  temp  humidity  rainfall  drought_code  buildup_index  day  \\\n",
      "0   no  2015    28        59       0.0          8.06           3.47    1   \n",
      "1   no  2010    30        61       1.3          8.17           4.03    2   \n",
      "2   no  2009    26        83      13.1          8.08           3.59    3   \n",
      "3   no  2017    25        87       2.5          7.18           2.42    4   \n",
      "4   no  2014    28        77       0.0         14.98           4.63    5   \n",
      "\n",
      "   month  wind_speed  \n",
      "0      6          19  \n",
      "1      6          13  \n",
      "2      6          22  \n",
      "3      6          15  \n",
      "4      6          18  \n",
      "(154, 10)\n"
     ]
    }
   ],
   "execution_count": 1
  },
  {
   "cell_type": "code",
   "id": "bfb25056-8ece-4031-a0ce-88cca5bac819",
   "metadata": {
    "ExecuteTime": {
     "end_time": "2025-10-14T15:36:16.689877Z",
     "start_time": "2025-10-14T15:36:16.669602Z"
    }
   },
   "source": [
    "#We can also load our test data too\n",
    "df_test = pd.read_csv(test_file)\n",
    "print(df_test.head())\n",
    "print(df_test.shape)"
   ],
   "outputs": [
    {
     "name": "stdout",
     "output_type": "stream",
     "text": [
      "  fire  year  temp  humidity  rainfall  drought_code  buildup_index  day  \\\n",
      "0   no  2015    33        68       4.5          9.12           5.09   19   \n",
      "1  yes  2009    28        56       0.0         38.17          21.21   12   \n",
      "2   no  2017    30        64       0.6         15.38           6.24   24   \n",
      "3   no  2007    23        74       8.3          7.36           2.27   14   \n",
      "4   no  2017    31        72       0.3         30.47           5.63    7   \n",
      "\n",
      "   month  wind_speed  \n",
      "0      6          16  \n",
      "1      6          18  \n",
      "2      9          19  \n",
      "3      9          28  \n",
      "4      9          17  \n",
      "(50, 10)\n"
     ]
    }
   ],
   "execution_count": 2
  },
  {
   "metadata": {
    "ExecuteTime": {
     "end_time": "2025-10-14T15:36:16.805941Z",
     "start_time": "2025-10-14T15:36:16.774606Z"
    }
   },
   "cell_type": "code",
   "source": [
    "# create matrix X containing the independent variables and a vector y containing the dependent variable for the training data\n",
    "X_training = df_training.loc[:,independent_cols]\n",
    "y_training = df_training.loc[:,dependent_col]\n",
    "print(X_training.head())\n",
    "print(y_training.head())"
   ],
   "id": "136e3d2c6db7cb88",
   "outputs": [
    {
     "name": "stdout",
     "output_type": "stream",
     "text": [
      "   year  temp  humidity  rainfall  drought_code  buildup_index  day  month  \\\n",
      "0  2015    28        59       0.0          8.06           3.47    1      6   \n",
      "1  2010    30        61       1.3          8.17           4.03    2      6   \n",
      "2  2009    26        83      13.1          8.08           3.59    3      6   \n",
      "3  2017    25        87       2.5          7.18           2.42    4      6   \n",
      "4  2014    28        77       0.0         14.98           4.63    5      6   \n",
      "\n",
      "   wind_speed  \n",
      "0          19  \n",
      "1          13  \n",
      "2          22  \n",
      "3          15  \n",
      "4          18  \n",
      "0    no\n",
      "1    no\n",
      "2    no\n",
      "3    no\n",
      "4    no\n",
      "Name: fire, dtype: object\n"
     ]
    }
   ],
   "execution_count": 3
  },
  {
   "metadata": {
    "ExecuteTime": {
     "end_time": "2025-10-14T15:36:16.907722Z",
     "start_time": "2025-10-14T15:36:16.891472Z"
    }
   },
   "cell_type": "code",
   "source": [
    "# create matrix X containing the independent variables and a vector y containing the dependent variable for the test data\n",
    "X_test = df_test.loc[:,independent_cols]\n",
    "y_test = df_test.loc[:,dependent_col]\n",
    "print(X_test.head())\n",
    "print(y_test.head())"
   ],
   "id": "8efe93ac7ddcbe8a",
   "outputs": [
    {
     "name": "stdout",
     "output_type": "stream",
     "text": [
      "   year  temp  humidity  rainfall  drought_code  buildup_index  day  month  \\\n",
      "0  2015    33        68       4.5          9.12           5.09   19      6   \n",
      "1  2009    28        56       0.0         38.17          21.21   12      6   \n",
      "2  2017    30        64       0.6         15.38           6.24   24      9   \n",
      "3  2007    23        74       8.3          7.36           2.27   14      9   \n",
      "4  2017    31        72       0.3         30.47           5.63    7      9   \n",
      "\n",
      "   wind_speed  \n",
      "0          16  \n",
      "1          18  \n",
      "2          19  \n",
      "3          28  \n",
      "4          17  \n",
      "0     no\n",
      "1    yes\n",
      "2     no\n",
      "3     no\n",
      "4     no\n",
      "Name: fire, dtype: object\n"
     ]
    }
   ],
   "execution_count": 4
  },
  {
   "metadata": {},
   "cell_type": "markdown",
   "source": [
    "Logistic Regression:\n",
    "First we will evaluate Logistic Regression while tuning the hyperparameters C (regularisation strength) and the Solver."
   ],
   "id": "2fe8b0ec6ec76c32"
  },
  {
   "metadata": {
    "ExecuteTime": {
     "end_time": "2025-10-14T15:36:19.222922Z",
     "start_time": "2025-10-14T15:36:16.987919Z"
    }
   },
   "cell_type": "code",
   "source": [
    "from sklearn import linear_model, metrics\n",
    "\n",
    "#create a model using default settings and compute the predictions for the training and test sets\n",
    "logisticRegression = linear_model.LogisticRegression(max_iter=1000)#had to increase max_iter from the default of 100 to avoid convergance errors\n",
    "logisticRegression.fit(X_training, y_training)\n",
    "\n",
    "predictions_training = logisticRegression.predict(X_training)\n",
    "predictions_test= logisticRegression.predict(X_test)\n",
    "\n",
    "accuracy_training = metrics.accuracy_score(y_training, predictions_training)\n",
    "accuracy_test = metrics.accuracy_score(y_test, predictions_test)\n",
    "print(\"Accuracy on training data:\",accuracy_training)\n",
    "print(\"Accuracy on test data:\",accuracy_test)\n",
    "\n",
    "\n",
    "#Compute a conufsion matrix and plot the test results\n",
    "\n",
    "conf_matrix = metrics.confusion_matrix(y_test, predictions_test)\n",
    "\n",
    "# Plot\n",
    "plt.figure(figsize=(6, 5))\n",
    "sns.heatmap(conf_matrix, annot=True, fmt='d', cmap='Blues', cbar=False,\n",
    "            xticklabels=['yes','no'],yticklabels=['yes','no'])\n",
    "plt.xlabel('Predicted Label')\n",
    "plt.ylabel('True Label')\n",
    "plt.title('Confusion Matrix - Logistic Regression')\n",
    "plt.show()"
   ],
   "id": "2c1575001d278ac1",
   "outputs": [
    {
     "name": "stdout",
     "output_type": "stream",
     "text": [
      "Accuracy on training data: 0.9090909090909091\n",
      "Accuracy on test data: 0.9\n"
     ]
    },
    {
     "data": {
      "text/plain": [
       "<Figure size 600x500 with 1 Axes>"
      ],
      "image/png": "[encoded data removed]"
     },
     "metadata": {},
     "output_type": "display_data",
     "jetTransient": {
      "display_id": null
     }
    }
   ],
   "execution_count": 5
  },
  {
   "metadata": {
    "ExecuteTime": {
     "end_time": "2025-10-14T15:36:20.360150Z",
     "start_time": "2025-10-14T15:36:19.306418Z"
    }
   },
   "cell_type": "code",
   "source": [
    "#Testing the C (regularisation strength) hyperparameter\n",
    "import numpy as np\n",
    "C_values = np.logspace(-3, 3, 10)  # 10 values from 0.001 to 1000\n",
    "training_accuracies = []\n",
    "test_accuracies = []\n",
    "\n",
    "for C in C_values:\n",
    "    model_C = linear_model.LogisticRegression(C=C, max_iter=1000)\n",
    "    model_C.fit(X_training, y_training)\n",
    "\n",
    "    training_accuracies.append(metrics.accuracy_score(y_training, model_C.predict(X_training)))\n",
    "    test_accuracies.append(metrics.accuracy_score(y_test, model_C.predict(X_test)))\n",
    "\n",
    "\n",
    "results = pd.DataFrame({\n",
    "    \"C\": C_values,\n",
    "    \"Training Accuracy\": training_accuracies,\n",
    "    \"Test Accuracy\": test_accuracies\n",
    "})\n",
    "\n",
    "print(results)\n",
    "\n"
   ],
   "id": "5465da065637d0f3",
   "outputs": [
    {
     "name": "stdout",
     "output_type": "stream",
     "text": [
      "             C  Training Accuracy  Test Accuracy\n",
      "0     0.001000           0.863636           0.82\n",
      "1     0.004642           0.876623           0.82\n",
      "2     0.021544           0.870130           0.82\n",
      "3     0.100000           0.896104           0.82\n",
      "4     0.464159           0.889610           0.86\n",
      "5     2.154435           0.915584           0.90\n",
      "6    10.000000           0.922078           0.88\n",
      "7    46.415888           0.928571           0.86\n",
      "8   215.443469           0.922078           0.86\n",
      "9  1000.000000           0.922078           0.86\n"
     ]
    }
   ],
   "execution_count": 6
  },
  {
   "metadata": {
    "ExecuteTime": {
     "end_time": "2025-10-14T15:36:20.692653Z",
     "start_time": "2025-10-14T15:36:20.411614Z"
    }
   },
   "cell_type": "code",
   "source": [
    "#Testing the Solver hyperparameter\n",
    "\n",
    "solvers = ['liblinear', 'lbfgs', 'newton-cg', 'sag', 'saga']\n",
    "\n",
    "train_accuracies = []\n",
    "test_accuracies = []\n",
    "\n",
    "for solver in solvers:\n",
    "    model_solver = linear_model.LogisticRegression(solver=solver, max_iter=1000)\n",
    "    model_solver.fit(X_training, y_training)\n",
    "\n",
    "    train_acc = metrics.accuracy_score(y_training, model_solver.predict(X_training))\n",
    "    test_acc = metrics.accuracy_score(y_test, model_solver.predict(X_test))\n",
    "\n",
    "    train_accuracies.append(train_acc)\n",
    "    test_accuracies.append(test_acc)\n",
    "\n",
    "results = pd.DataFrame({\n",
    "    \"Solver\": solvers,\n",
    "    \"Training Accuracy\": train_accuracies,\n",
    "    \"Test Accuracy\": test_accuracies\n",
    "})\n",
    "\n",
    "print(results)\n"
   ],
   "id": "502e49f0e277f601",
   "outputs": [
    {
     "name": "stdout",
     "output_type": "stream",
     "text": [
      "      Solver  Training Accuracy  Test Accuracy\n",
      "0  liblinear           0.909091           0.90\n",
      "1      lbfgs           0.909091           0.90\n",
      "2  newton-cg           0.902597           0.90\n",
      "3        sag           0.870130           0.82\n",
      "4       saga           0.870130           0.82\n"
     ]
    },
    {
     "name": "stderr",
     "output_type": "stream",
     "text": [
      "C:\\Users\\macao\\AppData\\Local\\Programs\\Python\\Python313\\Lib\\site-packages\\sklearn\\linear_model\\_sag.py:348: ConvergenceWarning: The max_iter was reached which means the coef_ did not converge\n",
      "  warnings.warn(\n",
      "C:\\Users\\macao\\AppData\\Local\\Programs\\Python\\Python313\\Lib\\site-packages\\sklearn\\linear_model\\_sag.py:348: ConvergenceWarning: The max_iter was reached which means the coef_ did not converge\n",
      "  warnings.warn(\n"
     ]
    }
   ],
   "execution_count": 7
  },
  {
   "metadata": {
    "ExecuteTime": {
     "end_time": "2025-10-14T15:55:47.703377Z",
     "start_time": "2025-10-14T15:55:45.378964Z"
    }
   },
   "cell_type": "code",
   "source": [
    "#evaluating all the combinations of solvers and C values\n",
    "results = []\n",
    "\n",
    "for solver in solvers:\n",
    "    for C in C_values:\n",
    "        model = linear_model.LogisticRegression(C=C, solver=solver, max_iter=1000)\n",
    "        model.fit(X_training, y_training)\n",
    "\n",
    "        train_acc = metrics.accuracy_score(y_training, model.predict(X_training))\n",
    "        test_acc = metrics.accuracy_score(y_test, model.predict(X_test))\n",
    "\n",
    "        results.append({\n",
    "            \"Solver\": solver,\n",
    "            \"C\": C,\n",
    "            \"Training Accuracy\": train_acc,\n",
    "            \"Test Accuracy\": test_acc\n",
    "        })\n",
    "\n",
    "results_df = pd.DataFrame(results)\n",
    "print(results_df)"
   ],
   "id": "1b32fbaef2d1b9a2",
   "outputs": [
    {
     "name": "stderr",
     "output_type": "stream",
     "text": [
      "C:\\Users\\macao\\AppData\\Local\\Programs\\Python\\Python313\\Lib\\site-packages\\sklearn\\linear_model\\_sag.py:348: ConvergenceWarning: The max_iter was reached which means the coef_ did not converge\n",
      "  warnings.warn(\n",
      "C:\\Users\\macao\\AppData\\Local\\Programs\\Python\\Python313\\Lib\\site-packages\\sklearn\\linear_model\\_sag.py:348: ConvergenceWarning: The max_iter was reached which means the coef_ did not converge\n",
      "  warnings.warn(\n",
      "C:\\Users\\macao\\AppData\\Local\\Programs\\Python\\Python313\\Lib\\site-packages\\sklearn\\linear_model\\_sag.py:348: ConvergenceWarning: The max_iter was reached which means the coef_ did not converge\n",
      "  warnings.warn(\n",
      "C:\\Users\\macao\\AppData\\Local\\Programs\\Python\\Python313\\Lib\\site-packages\\sklearn\\linear_model\\_sag.py:348: ConvergenceWarning: The max_iter was reached which means the coef_ did not converge\n",
      "  warnings.warn(\n",
      "C:\\Users\\macao\\AppData\\Local\\Programs\\Python\\Python313\\Lib\\site-packages\\sklearn\\linear_model\\_sag.py:348: ConvergenceWarning: The max_iter was reached which means the coef_ did not converge\n",
      "  warnings.warn(\n",
      "C:\\Users\\macao\\AppData\\Local\\Programs\\Python\\Python313\\Lib\\site-packages\\sklearn\\linear_model\\_sag.py:348: ConvergenceWarning: The max_iter was reached which means the coef_ did not converge\n",
      "  warnings.warn(\n",
      "C:\\Users\\macao\\AppData\\Local\\Programs\\Python\\Python313\\Lib\\site-packages\\sklearn\\linear_model\\_sag.py:348: ConvergenceWarning: The max_iter was reached which means the coef_ did not converge\n",
      "  warnings.warn(\n",
      "C:\\Users\\macao\\AppData\\Local\\Programs\\Python\\Python313\\Lib\\site-packages\\sklearn\\linear_model\\_sag.py:348: ConvergenceWarning: The max_iter was reached which means the coef_ did not converge\n",
      "  warnings.warn(\n",
      "C:\\Users\\macao\\AppData\\Local\\Programs\\Python\\Python313\\Lib\\site-packages\\sklearn\\linear_model\\_sag.py:348: ConvergenceWarning: The max_iter was reached which means the coef_ did not converge\n",
      "  warnings.warn(\n",
      "C:\\Users\\macao\\AppData\\Local\\Programs\\Python\\Python313\\Lib\\site-packages\\sklearn\\linear_model\\_sag.py:348: ConvergenceWarning: The max_iter was reached which means the coef_ did not converge\n",
      "  warnings.warn(\n",
      "C:\\Users\\macao\\AppData\\Local\\Programs\\Python\\Python313\\Lib\\site-packages\\sklearn\\linear_model\\_sag.py:348: ConvergenceWarning: The max_iter was reached which means the coef_ did not converge\n",
      "  warnings.warn(\n",
      "C:\\Users\\macao\\AppData\\Local\\Programs\\Python\\Python313\\Lib\\site-packages\\sklearn\\linear_model\\_sag.py:348: ConvergenceWarning: The max_iter was reached which means the coef_ did not converge\n",
      "  warnings.warn(\n",
      "C:\\Users\\macao\\AppData\\Local\\Programs\\Python\\Python313\\Lib\\site-packages\\sklearn\\linear_model\\_sag.py:348: ConvergenceWarning: The max_iter was reached which means the coef_ did not converge\n",
      "  warnings.warn(\n",
      "C:\\Users\\macao\\AppData\\Local\\Programs\\Python\\Python313\\Lib\\site-packages\\sklearn\\linear_model\\_sag.py:348: ConvergenceWarning: The max_iter was reached which means the coef_ did not converge\n",
      "  warnings.warn(\n",
      "C:\\Users\\macao\\AppData\\Local\\Programs\\Python\\Python313\\Lib\\site-packages\\sklearn\\linear_model\\_sag.py:348: ConvergenceWarning: The max_iter was reached which means the coef_ did not converge\n",
      "  warnings.warn(\n",
      "C:\\Users\\macao\\AppData\\Local\\Programs\\Python\\Python313\\Lib\\site-packages\\sklearn\\linear_model\\_sag.py:348: ConvergenceWarning: The max_iter was reached which means the coef_ did not converge\n",
      "  warnings.warn(\n",
      "C:\\Users\\macao\\AppData\\Local\\Programs\\Python\\Python313\\Lib\\site-packages\\sklearn\\linear_model\\_sag.py:348: ConvergenceWarning: The max_iter was reached which means the coef_ did not converge\n",
      "  warnings.warn(\n"
     ]
    },
    {
     "name": "stdout",
     "output_type": "stream",
     "text": [
      "       Solver            C  Train Accuracy  Test Accuracy\n",
      "0   liblinear     0.001000        0.863636           0.82\n",
      "1   liblinear     0.004642        0.876623           0.82\n",
      "2   liblinear     0.021544        0.870130           0.82\n",
      "3   liblinear     0.100000        0.896104           0.82\n",
      "4   liblinear     0.464159        0.889610           0.86\n",
      "5   liblinear     2.154435        0.915584           0.90\n",
      "6   liblinear    10.000000        0.922078           0.88\n",
      "7   liblinear    46.415888        0.928571           0.86\n",
      "8   liblinear   215.443469        0.922078           0.86\n",
      "9   liblinear  1000.000000        0.922078           0.86\n",
      "10      lbfgs     0.001000        0.863636           0.82\n",
      "11      lbfgs     0.004642        0.876623           0.82\n",
      "12      lbfgs     0.021544        0.870130           0.82\n",
      "13      lbfgs     0.100000        0.896104           0.82\n",
      "14      lbfgs     0.464159        0.889610           0.86\n",
      "15      lbfgs     2.154435        0.915584           0.90\n",
      "16      lbfgs    10.000000        0.922078           0.88\n",
      "17      lbfgs    46.415888        0.928571           0.86\n",
      "18      lbfgs   215.443469        0.922078           0.86\n",
      "19      lbfgs  1000.000000        0.922078           0.86\n",
      "20  newton-cg     0.001000        0.863636           0.82\n",
      "21  newton-cg     0.004642        0.876623           0.82\n",
      "22  newton-cg     0.021544        0.870130           0.82\n",
      "23  newton-cg     0.100000        0.889610           0.82\n",
      "24  newton-cg     0.464159        0.889610           0.88\n",
      "25  newton-cg     2.154435        0.915584           0.90\n",
      "26  newton-cg    10.000000        0.922078           0.88\n",
      "27  newton-cg    46.415888        0.935065           0.88\n",
      "28  newton-cg   215.443469        0.915584           0.88\n",
      "29  newton-cg  1000.000000        0.922078           0.86\n",
      "30        sag     0.001000        0.870130           0.82\n",
      "31        sag     0.004642        0.870130           0.82\n",
      "32        sag     0.021544        0.870130           0.82\n",
      "33        sag     0.100000        0.870130           0.82\n",
      "34        sag     0.464159        0.870130           0.82\n",
      "35        sag     2.154435        0.870130           0.82\n",
      "36        sag    10.000000        0.870130           0.82\n",
      "37        sag    46.415888        0.870130           0.82\n",
      "38        sag   215.443469        0.870130           0.82\n",
      "39        sag  1000.000000        0.870130           0.82\n",
      "40       saga     0.001000        0.870130           0.82\n",
      "41       saga     0.004642        0.870130           0.82\n",
      "42       saga     0.021544        0.870130           0.82\n",
      "43       saga     0.100000        0.870130           0.82\n",
      "44       saga     0.464159        0.870130           0.82\n",
      "45       saga     2.154435        0.870130           0.82\n",
      "46       saga    10.000000        0.870130           0.82\n",
      "47       saga    46.415888        0.870130           0.82\n",
      "48       saga   215.443469        0.870130           0.82\n",
      "49       saga  1000.000000        0.870130           0.82\n"
     ]
    },
    {
     "name": "stderr",
     "output_type": "stream",
     "text": [
      "C:\\Users\\macao\\AppData\\Local\\Programs\\Python\\Python313\\Lib\\site-packages\\sklearn\\linear_model\\_sag.py:348: ConvergenceWarning: The max_iter was reached which means the coef_ did not converge\n",
      "  warnings.warn(\n",
      "C:\\Users\\macao\\AppData\\Local\\Programs\\Python\\Python313\\Lib\\site-packages\\sklearn\\linear_model\\_sag.py:348: ConvergenceWarning: The max_iter was reached which means the coef_ did not converge\n",
      "  warnings.warn(\n",
      "C:\\Users\\macao\\AppData\\Local\\Programs\\Python\\Python313\\Lib\\site-packages\\sklearn\\linear_model\\_sag.py:348: ConvergenceWarning: The max_iter was reached which means the coef_ did not converge\n",
      "  warnings.warn(\n"
     ]
    }
   ],
   "execution_count": 8
  },
  {
   "metadata": {},
   "cell_type": "markdown",
   "source": "",
   "id": "84923ddb61ad6b78"
  },
  {
   "metadata": {},
   "cell_type": "markdown",
   "source": "Random Forest: tuning hyperparameters n_estimat",
   "id": "cc31b110963a7cbf"
  }
 ],
 "metadata": {
  "kernelspec": {
   "display_name": "Python 3 (ipykernel)",
   "language": "python",
   "name": "python3"
  },
  "language_info": {
   "codemirror_mode": {
    "name": "ipython",
    "version": 3
   },
   "file_extension": ".py",
   "mimetype": "text/x-python",
   "name": "python",
   "nbconvert_exporter": "python",
   "pygments_lexer": "ipython3",
   "version": "3.13.7"
  }
 },
 "nbformat": 4,
 "nbformat_minor": 5
}
