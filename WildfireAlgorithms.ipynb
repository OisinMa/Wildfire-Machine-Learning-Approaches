{
 "cells": [
  {
   "cell_type": "code",
   "execution_count": null,
   "id": "467858a4-f8c8-4111-978e-4bfadf1509b0",
   "metadata": {},
   "outputs": [],
   "source": [
    "#Wildfire Aglorithms initial setup"
   ]
  }
 ],
 "metadata": {
  "kernelspec": {
   "display_name": "Python 3 (ipykernel)",
   "language": "python",
   "name": "python3"
  },
  "language_info": {
   "codemirror_mode": {
    "name": "ipython",
    "version": 3
   },
   "file_extension": ".py",
   "mimetype": "text/x-python",
   "name": "python",
   "nbconvert_exporter": "python",
   "pygments_lexer": "ipython3",
   "version": "3.13.7"
  }
 },
 "nbformat": 4,
 "nbformat_minor": 5
}
